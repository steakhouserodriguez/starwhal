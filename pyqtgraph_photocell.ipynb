{
 "metadata": {
  "name": "",
  "signature": "sha256:6439c04252c85b322712feff6b2c5dc6f38f801397c86a16dd4b1f5e228c859d"
 },
 "nbformat": 3,
 "nbformat_minor": 0,
 "worksheets": [
  {
   "cells": [
    {
     "cell_type": "code",
     "collapsed": false,
     "input": [
      "import pyqtgraph as pg\n",
      "from pyqtgraph.Qt import QtGui, QtCore\n",
      "import time\n",
      "import numpy as np\n",
      "import sys"
     ],
     "language": "python",
     "metadata": {},
     "outputs": [],
     "prompt_number": 1
    },
    {
     "cell_type": "code",
     "collapsed": false,
     "input": [
      "app = QtGui.QApplication(sys.argv)\n",
      "pg.QtGui.QApplication.quitOnLastWindowClosed = True\n",
      "win = pg.GraphicsWindow(title=\"Title\")\n",
      "colors=['r', 'g', 'b', 'c', 'm', 'y']\n",
      "curves=[]r"
     ],
     "language": "python",
     "metadata": {},
     "outputs": [],
     "prompt_number": 2
    },
    {
     "cell_type": "code",
     "collapsed": false,
     "input": [
      "rvis = win.addPlot(title=\"Luminosity\")\n",
      "rvis.setRange(yRange=(0,1))\n",
      "for i in range(6):\n",
      "    curves.append(rvis.plot(pen=colors[i]))"
     ],
     "language": "python",
     "metadata": {},
     "outputs": [],
     "prompt_number": 3
    },
    {
     "cell_type": "code",
     "collapsed": false,
     "input": [
      "# plots=[]\n",
      "# for i in range(6):\n",
      "#     nplot=win.addPlot(title=\"Luminosity{0}\".format(i) )\n",
      "#     win.nextRow()\n",
      "#     plots.append(nplot)\n",
      "#     curves.append(nplot.plot(pen=colors[i], fillLevel=True, fillBrush=colors[i]))"
     ],
     "language": "python",
     "metadata": {},
     "outputs": [],
     "prompt_number": 4
    },
    {
     "cell_type": "code",
     "collapsed": false,
     "input": [
      "bufflen=200\n",
      "buffs=[]\n",
      "for i in range(6):\n",
      "    buffs.append(np.zeros(bufflen))"
     ],
     "language": "python",
     "metadata": {},
     "outputs": [],
     "prompt_number": 5
    },
    {
     "cell_type": "code",
     "collapsed": false,
     "input": [
      "import time\n",
      "from pyfirmata import Arduino, util\n",
      "import pyfirmata\n",
      "board = Arduino('/dev/ttyACM0')\n",
      "it = util.Iterator(board)\n",
      "it.start()\n",
      "for an in board.analog:\n",
      "    an.enable_reporting()\n",
      "def readan(an):\n",
      "    return 1.0-an.read()"
     ],
     "language": "python",
     "metadata": {},
     "outputs": []
    },
    {
     "cell_type": "code",
     "collapsed": false,
     "input": [
      "while True:\n",
      "    pg.QtGui.QApplication.processEvents()\n",
      "    readings=map(readan, board.analog)\n",
      "    for i in range(6):\n",
      "        buffs[i] = np.roll(buffs[i], -1)\n",
      "        buffs[i][bufflen-1] = readings[i]\n",
      "    for i in range(6):\n",
      "        curves[i].setData(buffs[i])\n",
      "#     for c in curves:\n",
      "#         c.setData(np.random.randn(10))\n",
      "    time.sleep(.005)"
     ],
     "language": "python",
     "metadata": {},
     "outputs": []
    },
    {
     "cell_type": "code",
     "collapsed": false,
     "input": [
      "pg.QtGui.QApplication.processEvents()\n",
      "for c in curves:\n",
      "    c.setData(np.random.randn(10))"
     ],
     "language": "python",
     "metadata": {},
     "outputs": []
    },
    {
     "cell_type": "code",
     "collapsed": false,
     "input": [],
     "language": "python",
     "metadata": {},
     "outputs": []
    }
   ],
   "metadata": {}
  }
 ]
}