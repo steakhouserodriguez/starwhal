{
 "metadata": {
  "name": "",
  "signature": "sha256:3235c1e417744567cf67c84a3eb4392671c02668320d3c58fec04bd91574c274"
 },
 "nbformat": 3,
 "nbformat_minor": 0,
 "worksheets": [
  {
   "cells": [
    {
     "cell_type": "heading",
     "level": 1,
     "metadata": {},
     "source": [
      "GM5539 Photocell"
     ]
    },
    {
     "cell_type": "markdown",
     "metadata": {},
     "source": [
      "Product Information\n",
      "* http://www.aliexpress.com/store/product/Photo-Light-Sensitive-Resistor-Photoresistor-5-mm-GM5539-5539/212107_932779094.html"
     ]
    },
    {
     "cell_type": "markdown",
     "metadata": {},
     "source": [
      "* http://www.amazon.com/dp/B00AQVYWA2/\n",
      "    * Maximum Wattage: 100mW\n",
      "    * Operating Temperature: -30 ~ +70 deg C\n",
      "    * Spectral Peak: 540nm\n",
      "    * Light Resistance (10 Lux): 50-100 Kohm\n",
      "    * Dark Resistance: 5Mohm"
     ]
    },
    {
     "cell_type": "markdown",
     "metadata": {},
     "source": [
      "* datasheet\n",
      "    * http://akizukidenshi.com/download/ds/senba/GL55%20Series%20Photoresistor.pdf"
     ]
    },
    {
     "cell_type": "heading",
     "level": 2,
     "metadata": {},
     "source": [
      "Setup"
     ]
    },
    {
     "cell_type": "markdown",
     "metadata": {},
     "source": [
      "because these are Light Dependent Resistors, a 10k\u03a9 resistor is used to complete a resistive divider to read the sensors with an ADC."
     ]
    },
    {
     "cell_type": "code",
     "collapsed": false,
     "input": [
      "!ls /dev/ttyACM*"
     ],
     "language": "python",
     "metadata": {},
     "outputs": [
      {
       "output_type": "stream",
       "stream": "stdout",
       "text": [
        "/dev/ttyACM0\r\n"
       ]
      }
     ],
     "prompt_number": 4
    },
    {
     "cell_type": "code",
     "collapsed": false,
     "input": [
      "import time\n",
      "from pyfirmata import Arduino, util\n",
      "import pyfirmata\n",
      "board = Arduino('/dev/ttyACM0')\n",
      "it = util.Iterator(board)\n",
      "it.start()\n",
      "for an in board.analog:\n",
      "    an.enable_reporting()\n",
      "def readan(an):\n",
      "    return an.read()"
     ],
     "language": "python",
     "metadata": {},
     "outputs": [],
     "prompt_number": 1
    },
    {
     "cell_type": "code",
     "collapsed": false,
     "input": [
      "%%timeit\n",
      "for an in board.analog:\n",
      "    an.read()"
     ],
     "language": "python",
     "metadata": {},
     "outputs": [
      {
       "output_type": "stream",
       "stream": "stdout",
       "text": [
        "100000 loops, best of 3: 2.6 \u00b5s per loop\n"
       ]
      }
     ],
     "prompt_number": 2
    },
    {
     "cell_type": "code",
     "collapsed": false,
     "input": [
      "%timeit map(readan, board.analog)"
     ],
     "language": "python",
     "metadata": {},
     "outputs": [
      {
       "output_type": "stream",
       "stream": "stdout",
       "text": [
        "100000 loops, best of 3: 3.22 \u00b5s per loop\n"
       ]
      }
     ],
     "prompt_number": 3
    },
    {
     "cell_type": "code",
     "collapsed": false,
     "input": [
      "map(readan, board.analog)"
     ],
     "language": "python",
     "metadata": {},
     "outputs": [
      {
       "metadata": {},
       "output_type": "pyout",
       "prompt_number": 69,
       "text": [
        "[0.4125, 0.3656, 0.3314, 0.4194, 0.3959, 0.4066]"
       ]
      }
     ],
     "prompt_number": 69
    }
   ],
   "metadata": {}
  }
 ]
}